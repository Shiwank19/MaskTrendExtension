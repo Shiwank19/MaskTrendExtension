{
 "cells": [
  {
   "cell_type": "code",
   "execution_count": 2,
   "id": "e20fa0c4",
   "metadata": {},
   "outputs": [
    {
     "name": "stderr",
     "output_type": "stream",
     "text": [
      "14651it [02:02, 119.97it/s]\n"
     ]
    }
   ],
   "source": [
    "from PIL import Image\n",
    "import sys\n",
    "from pathlib import Path\n",
    "from tqdm import tqdm\n",
    "import os\n",
    "\n",
    "if __name__ == \"__main__\":\n",
    "  for image in tqdm(Path(f\"instaloader\").glob(\"**/*.jpg\")):\n",
    "        try:\n",
    "            loaded = Image.open(image)\n",
    "        except:\n",
    "            print(image)\n",
    "            #os.remove(image)\n"
   ]
  },
  {
   "cell_type": "code",
   "execution_count": 3,
   "id": "39621fb2",
   "metadata": {},
   "outputs": [
    {
     "name": "stdout",
     "output_type": "stream",
     "text": [
      "Requirement already satisfied: retinaface_pytorch in c:\\users\\saloni20016\\anaconda3\\lib\\site-packages (0.0.7)\n",
      "Requirement already satisfied: torch in c:\\users\\saloni20016\\anaconda3\\lib\\site-packages (from retinaface_pytorch) (1.9.0)\n",
      "Requirement already satisfied: iglovikov-helper-functions in c:\\users\\saloni20016\\anaconda3\\lib\\site-packages (from retinaface_pytorch) (0.0.53)\n",
      "Requirement already satisfied: pillow in c:\\users\\saloni20016\\anaconda3\\lib\\site-packages (from retinaface_pytorch) (8.2.0)\n",
      "Requirement already satisfied: streamlit in c:\\users\\saloni20016\\anaconda3\\lib\\site-packages (from retinaface_pytorch) (0.84.0)\n",
      "Requirement already satisfied: albumentations in c:\\users\\saloni20016\\anaconda3\\lib\\site-packages (from retinaface_pytorch) (1.0.1)\n",
      "Requirement already satisfied: numpy in c:\\users\\saloni20016\\anaconda3\\lib\\site-packages (from retinaface_pytorch) (1.20.1)\n",
      "Requirement already satisfied: scikit-image>=0.16.1 in c:\\users\\saloni20016\\anaconda3\\lib\\site-packages (from albumentations->retinaface_pytorch) (0.18.1)\n",
      "Requirement already satisfied: opencv-python-headless>=4.1.1 in c:\\users\\saloni20016\\anaconda3\\lib\\site-packages (from albumentations->retinaface_pytorch) (4.5.2.54)\n",
      "Requirement already satisfied: scipy in c:\\users\\saloni20016\\anaconda3\\lib\\site-packages (from albumentations->retinaface_pytorch) (1.6.2)\n",
      "Requirement already satisfied: PyYAML in c:\\users\\saloni20016\\anaconda3\\lib\\site-packages (from albumentations->retinaface_pytorch) (5.4.1)\n",
      "Requirement already satisfied: matplotlib!=3.0.0,>=2.0.0 in c:\\users\\saloni20016\\anaconda3\\lib\\site-packages (from scikit-image>=0.16.1->albumentations->retinaface_pytorch) (3.3.4)\n",
      "Requirement already satisfied: networkx>=2.0 in c:\\users\\saloni20016\\anaconda3\\lib\\site-packages (from scikit-image>=0.16.1->albumentations->retinaface_pytorch) (2.5)\n",
      "Requirement already satisfied: imageio>=2.3.0 in c:\\users\\saloni20016\\anaconda3\\lib\\site-packages (from scikit-image>=0.16.1->albumentations->retinaface_pytorch) (2.9.0)\n",
      "Requirement already satisfied: tifffile>=2019.7.26 in c:\\users\\saloni20016\\anaconda3\\lib\\site-packages (from scikit-image>=0.16.1->albumentations->retinaface_pytorch) (2021.4.8)\n",
      "Requirement already satisfied: PyWavelets>=1.1.1 in c:\\users\\saloni20016\\anaconda3\\lib\\site-packages (from scikit-image>=0.16.1->albumentations->retinaface_pytorch) (1.1.1)\n",
      "Requirement already satisfied: kiwisolver>=1.0.1 in c:\\users\\saloni20016\\anaconda3\\lib\\site-packages (from matplotlib!=3.0.0,>=2.0.0->scikit-image>=0.16.1->albumentations->retinaface_pytorch) (1.3.1)\n",
      "Requirement already satisfied: cycler>=0.10 in c:\\users\\saloni20016\\anaconda3\\lib\\site-packages (from matplotlib!=3.0.0,>=2.0.0->scikit-image>=0.16.1->albumentations->retinaface_pytorch) (0.10.0)\n",
      "Requirement already satisfied: pyparsing!=2.0.4,!=2.1.2,!=2.1.6,>=2.0.3 in c:\\users\\saloni20016\\anaconda3\\lib\\site-packages (from matplotlib!=3.0.0,>=2.0.0->scikit-image>=0.16.1->albumentations->retinaface_pytorch) (2.4.7)\n",
      "Requirement already satisfied: python-dateutil>=2.1 in c:\\users\\saloni20016\\anaconda3\\lib\\site-packages (from matplotlib!=3.0.0,>=2.0.0->scikit-image>=0.16.1->albumentations->retinaface_pytorch) (2.8.1)\n",
      "Requirement already satisfied: six in c:\\users\\saloni20016\\anaconda3\\lib\\site-packages (from cycler>=0.10->matplotlib!=3.0.0,>=2.0.0->scikit-image>=0.16.1->albumentations->retinaface_pytorch) (1.15.0)\n",
      "Requirement already satisfied: decorator>=4.3.0 in c:\\users\\saloni20016\\anaconda3\\lib\\site-packages (from networkx>=2.0->scikit-image>=0.16.1->albumentations->retinaface_pytorch) (5.0.6)\n",
      "Requirement already satisfied: scikit-learn in c:\\users\\saloni20016\\anaconda3\\lib\\site-packages (from iglovikov-helper-functions->retinaface_pytorch) (0.24.1)\n",
      "Requirement already satisfied: jpeg4py in c:\\users\\saloni20016\\anaconda3\\lib\\site-packages (from iglovikov-helper-functions->retinaface_pytorch) (0.1.4)\n",
      "Requirement already satisfied: opencv-python in c:\\users\\saloni20016\\anaconda3\\lib\\site-packages (from iglovikov-helper-functions->retinaface_pytorch) (4.5.2.54)\n",
      "Requirement already satisfied: imagecorruptions in c:\\users\\saloni20016\\anaconda3\\lib\\site-packages (from iglovikov-helper-functions->retinaface_pytorch) (1.1.2)\n",
      "Requirement already satisfied: addict in c:\\users\\saloni20016\\anaconda3\\lib\\site-packages (from iglovikov-helper-functions->retinaface_pytorch) (2.4.0)\n",
      "Requirement already satisfied: joblib in c:\\users\\saloni20016\\anaconda3\\lib\\site-packages (from iglovikov-helper-functions->retinaface_pytorch) (1.0.1)\n",
      "Requirement already satisfied: pandas in c:\\users\\saloni20016\\anaconda3\\lib\\site-packages (from iglovikov-helper-functions->retinaface_pytorch) (1.2.4)\n",
      "Requirement already satisfied: cffi in c:\\users\\saloni20016\\anaconda3\\lib\\site-packages (from jpeg4py->iglovikov-helper-functions->retinaface_pytorch) (1.14.5)\n",
      "Requirement already satisfied: pycparser in c:\\users\\saloni20016\\anaconda3\\lib\\site-packages (from cffi->jpeg4py->iglovikov-helper-functions->retinaface_pytorch) (2.20)\n",
      "Requirement already satisfied: pytz>=2017.3 in c:\\users\\saloni20016\\anaconda3\\lib\\site-packages (from pandas->iglovikov-helper-functions->retinaface_pytorch) (2021.1)\n",
      "Requirement already satisfied: threadpoolctl>=2.0.0 in c:\\users\\saloni20016\\anaconda3\\lib\\site-packages (from scikit-learn->iglovikov-helper-functions->retinaface_pytorch) (2.1.0)\n",
      "Requirement already satisfied: attrs in c:\\users\\saloni20016\\anaconda3\\lib\\site-packages (from streamlit->retinaface_pytorch) (20.3.0)\n",
      "Requirement already satisfied: tornado>=5.0 in c:\\users\\saloni20016\\anaconda3\\lib\\site-packages (from streamlit->retinaface_pytorch) (6.1)\n",
      "Requirement already satisfied: base58 in c:\\users\\saloni20016\\anaconda3\\lib\\site-packages (from streamlit->retinaface_pytorch) (2.1.0)\n",
      "Requirement already satisfied: toml in c:\\users\\saloni20016\\anaconda3\\lib\\site-packages (from streamlit->retinaface_pytorch) (0.10.2)\n",
      "Requirement already satisfied: packaging in c:\\users\\saloni20016\\anaconda3\\lib\\site-packages (from streamlit->retinaface_pytorch) (20.9)\n",
      "Requirement already satisfied: cachetools>=4.0 in c:\\users\\saloni20016\\anaconda3\\lib\\site-packages (from streamlit->retinaface_pytorch) (4.2.2)\n",
      "Requirement already satisfied: tzlocal in c:\\users\\saloni20016\\anaconda3\\lib\\site-packages (from streamlit->retinaface_pytorch) (2.1)\n",
      "Requirement already satisfied: click<8.0,>=7.0 in c:\\users\\saloni20016\\anaconda3\\lib\\site-packages (from streamlit->retinaface_pytorch) (7.1.2)\n",
      "Requirement already satisfied: requests in c:\\users\\saloni20016\\anaconda3\\lib\\site-packages (from streamlit->retinaface_pytorch) (2.25.1)\n",
      "Requirement already satisfied: gitpython in c:\\users\\saloni20016\\anaconda3\\lib\\site-packages (from streamlit->retinaface_pytorch) (3.1.18)\n",
      "Requirement already satisfied: pydeck>=0.1.dev5 in c:\\users\\saloni20016\\anaconda3\\lib\\site-packages (from streamlit->retinaface_pytorch) (0.6.2)\n",
      "Requirement already satisfied: watchdog in c:\\users\\saloni20016\\anaconda3\\lib\\site-packages (from streamlit->retinaface_pytorch) (1.0.2)\n",
      "Requirement already satisfied: altair>=3.2.0 in c:\\users\\saloni20016\\anaconda3\\lib\\site-packages (from streamlit->retinaface_pytorch) (4.1.0)\n",
      "Requirement already satisfied: validators in c:\\users\\saloni20016\\anaconda3\\lib\\site-packages (from streamlit->retinaface_pytorch) (0.18.2)\n",
      "Requirement already satisfied: pyarrow in c:\\users\\saloni20016\\anaconda3\\lib\\site-packages (from streamlit->retinaface_pytorch) (4.0.1)\n",
      "Requirement already satisfied: astor in c:\\users\\saloni20016\\anaconda3\\lib\\site-packages (from streamlit->retinaface_pytorch) (0.8.1)\n",
      "Requirement already satisfied: blinker in c:\\users\\saloni20016\\anaconda3\\lib\\site-packages (from streamlit->retinaface_pytorch) (1.4)\n",
      "Requirement already satisfied: protobuf!=3.11,>=3.6.0 in c:\\users\\saloni20016\\anaconda3\\lib\\site-packages (from streamlit->retinaface_pytorch) (3.17.3)\n",
      "Requirement already satisfied: entrypoints in c:\\users\\saloni20016\\anaconda3\\lib\\site-packages (from altair>=3.2.0->streamlit->retinaface_pytorch) (0.3)\n",
      "Requirement already satisfied: jsonschema in c:\\users\\saloni20016\\anaconda3\\lib\\site-packages (from altair>=3.2.0->streamlit->retinaface_pytorch) (3.2.0)\n",
      "Requirement already satisfied: toolz in c:\\users\\saloni20016\\anaconda3\\lib\\site-packages (from altair>=3.2.0->streamlit->retinaface_pytorch) (0.11.1)\n",
      "Requirement already satisfied: jinja2 in c:\\users\\saloni20016\\anaconda3\\lib\\site-packages (from altair>=3.2.0->streamlit->retinaface_pytorch) (2.11.3)\n",
      "Requirement already satisfied: traitlets>=4.3.2 in c:\\users\\saloni20016\\anaconda3\\lib\\site-packages (from pydeck>=0.1.dev5->streamlit->retinaface_pytorch) (5.0.5)\n",
      "Requirement already satisfied: ipywidgets>=7.0.0 in c:\\users\\saloni20016\\anaconda3\\lib\\site-packages (from pydeck>=0.1.dev5->streamlit->retinaface_pytorch) (7.6.3)\n",
      "Requirement already satisfied: ipykernel>=5.1.2 in c:\\users\\saloni20016\\anaconda3\\lib\\site-packages (from pydeck>=0.1.dev5->streamlit->retinaface_pytorch) (5.3.4)\n",
      "Requirement already satisfied: ipython>=5.0.0 in c:\\users\\saloni20016\\anaconda3\\lib\\site-packages (from ipykernel>=5.1.2->pydeck>=0.1.dev5->streamlit->retinaface_pytorch) (7.22.0)\n",
      "Requirement already satisfied: jupyter-client in c:\\users\\saloni20016\\anaconda3\\lib\\site-packages (from ipykernel>=5.1.2->pydeck>=0.1.dev5->streamlit->retinaface_pytorch) (6.1.12)\n",
      "Requirement already satisfied: prompt-toolkit!=3.0.0,!=3.0.1,<3.1.0,>=2.0.0 in c:\\users\\saloni20016\\anaconda3\\lib\\site-packages (from ipython>=5.0.0->ipykernel>=5.1.2->pydeck>=0.1.dev5->streamlit->retinaface_pytorch) (3.0.17)\n",
      "Requirement already satisfied: backcall in c:\\users\\saloni20016\\anaconda3\\lib\\site-packages (from ipython>=5.0.0->ipykernel>=5.1.2->pydeck>=0.1.dev5->streamlit->retinaface_pytorch) (0.2.0)\n",
      "Requirement already satisfied: setuptools>=18.5 in c:\\users\\saloni20016\\anaconda3\\lib\\site-packages (from ipython>=5.0.0->ipykernel>=5.1.2->pydeck>=0.1.dev5->streamlit->retinaface_pytorch) (52.0.0.post20210125)\n",
      "Requirement already satisfied: pickleshare in c:\\users\\saloni20016\\anaconda3\\lib\\site-packages (from ipython>=5.0.0->ipykernel>=5.1.2->pydeck>=0.1.dev5->streamlit->retinaface_pytorch) (0.7.5)\n",
      "Requirement already satisfied: colorama in c:\\users\\saloni20016\\anaconda3\\lib\\site-packages (from ipython>=5.0.0->ipykernel>=5.1.2->pydeck>=0.1.dev5->streamlit->retinaface_pytorch) (0.4.4)\n",
      "Requirement already satisfied: jedi>=0.16 in c:\\users\\saloni20016\\anaconda3\\lib\\site-packages (from ipython>=5.0.0->ipykernel>=5.1.2->pydeck>=0.1.dev5->streamlit->retinaface_pytorch) (0.17.2)\n",
      "Requirement already satisfied: pygments in c:\\users\\saloni20016\\anaconda3\\lib\\site-packages (from ipython>=5.0.0->ipykernel>=5.1.2->pydeck>=0.1.dev5->streamlit->retinaface_pytorch) (2.8.1)\n",
      "Requirement already satisfied: jupyterlab-widgets>=1.0.0 in c:\\users\\saloni20016\\anaconda3\\lib\\site-packages (from ipywidgets>=7.0.0->pydeck>=0.1.dev5->streamlit->retinaface_pytorch) (1.0.0)\n",
      "Requirement already satisfied: nbformat>=4.2.0 in c:\\users\\saloni20016\\anaconda3\\lib\\site-packages (from ipywidgets>=7.0.0->pydeck>=0.1.dev5->streamlit->retinaface_pytorch) (5.1.3)\n",
      "Requirement already satisfied: widgetsnbextension~=3.5.0 in c:\\users\\saloni20016\\anaconda3\\lib\\site-packages (from ipywidgets>=7.0.0->pydeck>=0.1.dev5->streamlit->retinaface_pytorch) (3.5.1)\n",
      "Requirement already satisfied: parso<0.8.0,>=0.7.0 in c:\\users\\saloni20016\\anaconda3\\lib\\site-packages (from jedi>=0.16->ipython>=5.0.0->ipykernel>=5.1.2->pydeck>=0.1.dev5->streamlit->retinaface_pytorch) (0.7.0)\n",
      "Requirement already satisfied: MarkupSafe>=0.23 in c:\\users\\saloni20016\\anaconda3\\lib\\site-packages (from jinja2->altair>=3.2.0->streamlit->retinaface_pytorch) (1.1.1)\n",
      "Requirement already satisfied: ipython-genutils in c:\\users\\saloni20016\\anaconda3\\lib\\site-packages (from nbformat>=4.2.0->ipywidgets>=7.0.0->pydeck>=0.1.dev5->streamlit->retinaface_pytorch) (0.2.0)\n",
      "Requirement already satisfied: jupyter-core in c:\\users\\saloni20016\\anaconda3\\lib\\site-packages (from nbformat>=4.2.0->ipywidgets>=7.0.0->pydeck>=0.1.dev5->streamlit->retinaface_pytorch) (4.7.1)\n",
      "Requirement already satisfied: pyrsistent>=0.14.0 in c:\\users\\saloni20016\\anaconda3\\lib\\site-packages (from jsonschema->altair>=3.2.0->streamlit->retinaface_pytorch) (0.17.3)\n",
      "Requirement already satisfied: wcwidth in c:\\users\\saloni20016\\anaconda3\\lib\\site-packages (from prompt-toolkit!=3.0.0,!=3.0.1,<3.1.0,>=2.0.0->ipython>=5.0.0->ipykernel>=5.1.2->pydeck>=0.1.dev5->streamlit->retinaface_pytorch) (0.2.5)\n",
      "Requirement already satisfied: notebook>=4.4.1 in c:\\users\\saloni20016\\anaconda3\\lib\\site-packages (from widgetsnbextension~=3.5.0->ipywidgets>=7.0.0->pydeck>=0.1.dev5->streamlit->retinaface_pytorch) (6.3.0)\n",
      "Requirement already satisfied: argon2-cffi in c:\\users\\saloni20016\\anaconda3\\lib\\site-packages (from notebook>=4.4.1->widgetsnbextension~=3.5.0->ipywidgets>=7.0.0->pydeck>=0.1.dev5->streamlit->retinaface_pytorch) (20.1.0)\n",
      "Requirement already satisfied: Send2Trash>=1.5.0 in c:\\users\\saloni20016\\anaconda3\\lib\\site-packages (from notebook>=4.4.1->widgetsnbextension~=3.5.0->ipywidgets>=7.0.0->pydeck>=0.1.dev5->streamlit->retinaface_pytorch) (1.5.0)\n",
      "Requirement already satisfied: terminado>=0.8.3 in c:\\users\\saloni20016\\anaconda3\\lib\\site-packages (from notebook>=4.4.1->widgetsnbextension~=3.5.0->ipywidgets>=7.0.0->pydeck>=0.1.dev5->streamlit->retinaface_pytorch) (0.9.4)\n",
      "Requirement already satisfied: nbconvert in c:\\users\\saloni20016\\anaconda3\\lib\\site-packages (from notebook>=4.4.1->widgetsnbextension~=3.5.0->ipywidgets>=7.0.0->pydeck>=0.1.dev5->streamlit->retinaface_pytorch) (6.0.7)\n",
      "Requirement already satisfied: pyzmq>=17 in c:\\users\\saloni20016\\anaconda3\\lib\\site-packages (from notebook>=4.4.1->widgetsnbextension~=3.5.0->ipywidgets>=7.0.0->pydeck>=0.1.dev5->streamlit->retinaface_pytorch) (20.0.0)\n",
      "Requirement already satisfied: prometheus-client in c:\\users\\saloni20016\\anaconda3\\lib\\site-packages (from notebook>=4.4.1->widgetsnbextension~=3.5.0->ipywidgets>=7.0.0->pydeck>=0.1.dev5->streamlit->retinaface_pytorch) (0.10.1)\n",
      "Requirement already satisfied: pywin32>=1.0 in c:\\users\\saloni20016\\anaconda3\\lib\\site-packages (from jupyter-core->nbformat>=4.2.0->ipywidgets>=7.0.0->pydeck>=0.1.dev5->streamlit->retinaface_pytorch) (227)\n",
      "Requirement already satisfied: pywinpty>=0.5 in c:\\users\\saloni20016\\anaconda3\\lib\\site-packages (from terminado>=0.8.3->notebook>=4.4.1->widgetsnbextension~=3.5.0->ipywidgets>=7.0.0->pydeck>=0.1.dev5->streamlit->retinaface_pytorch) (0.5.7)\n",
      "Requirement already satisfied: gitdb<5,>=4.0.1 in c:\\users\\saloni20016\\anaconda3\\lib\\site-packages (from gitpython->streamlit->retinaface_pytorch) (4.0.7)\n",
      "Requirement already satisfied: smmap<5,>=3.0.1 in c:\\users\\saloni20016\\anaconda3\\lib\\site-packages (from gitdb<5,>=4.0.1->gitpython->streamlit->retinaface_pytorch) (4.0.0)\n",
      "Requirement already satisfied: pandocfilters>=1.4.1 in c:\\users\\saloni20016\\anaconda3\\lib\\site-packages (from nbconvert->notebook>=4.4.1->widgetsnbextension~=3.5.0->ipywidgets>=7.0.0->pydeck>=0.1.dev5->streamlit->retinaface_pytorch) (1.4.3)\n",
      "Requirement already satisfied: testpath in c:\\users\\saloni20016\\anaconda3\\lib\\site-packages (from nbconvert->notebook>=4.4.1->widgetsnbextension~=3.5.0->ipywidgets>=7.0.0->pydeck>=0.1.dev5->streamlit->retinaface_pytorch) (0.4.4)\n",
      "Requirement already satisfied: defusedxml in c:\\users\\saloni20016\\anaconda3\\lib\\site-packages (from nbconvert->notebook>=4.4.1->widgetsnbextension~=3.5.0->ipywidgets>=7.0.0->pydeck>=0.1.dev5->streamlit->retinaface_pytorch) (0.7.1)\n",
      "Requirement already satisfied: nbclient<0.6.0,>=0.5.0 in c:\\users\\saloni20016\\anaconda3\\lib\\site-packages (from nbconvert->notebook>=4.4.1->widgetsnbextension~=3.5.0->ipywidgets>=7.0.0->pydeck>=0.1.dev5->streamlit->retinaface_pytorch) (0.5.3)\n",
      "Requirement already satisfied: bleach in c:\\users\\saloni20016\\anaconda3\\lib\\site-packages (from nbconvert->notebook>=4.4.1->widgetsnbextension~=3.5.0->ipywidgets>=7.0.0->pydeck>=0.1.dev5->streamlit->retinaface_pytorch) (3.3.0)\n",
      "Requirement already satisfied: jupyterlab-pygments in c:\\users\\saloni20016\\anaconda3\\lib\\site-packages (from nbconvert->notebook>=4.4.1->widgetsnbextension~=3.5.0->ipywidgets>=7.0.0->pydeck>=0.1.dev5->streamlit->retinaface_pytorch) (0.1.2)\n",
      "Requirement already satisfied: mistune<2,>=0.8.1 in c:\\users\\saloni20016\\anaconda3\\lib\\site-packages (from nbconvert->notebook>=4.4.1->widgetsnbextension~=3.5.0->ipywidgets>=7.0.0->pydeck>=0.1.dev5->streamlit->retinaface_pytorch) (0.8.4)\n",
      "Requirement already satisfied: nest-asyncio in c:\\users\\saloni20016\\anaconda3\\lib\\site-packages (from nbclient<0.6.0,>=0.5.0->nbconvert->notebook>=4.4.1->widgetsnbextension~=3.5.0->ipywidgets>=7.0.0->pydeck>=0.1.dev5->streamlit->retinaface_pytorch) (1.5.1)\n",
      "Requirement already satisfied: async-generator in c:\\users\\saloni20016\\anaconda3\\lib\\site-packages (from nbclient<0.6.0,>=0.5.0->nbconvert->notebook>=4.4.1->widgetsnbextension~=3.5.0->ipywidgets>=7.0.0->pydeck>=0.1.dev5->streamlit->retinaface_pytorch) (1.10)\n",
      "Requirement already satisfied: webencodings in c:\\users\\saloni20016\\anaconda3\\lib\\site-packages (from bleach->nbconvert->notebook>=4.4.1->widgetsnbextension~=3.5.0->ipywidgets>=7.0.0->pydeck>=0.1.dev5->streamlit->retinaface_pytorch) (0.5.1)\n",
      "Requirement already satisfied: urllib3<1.27,>=1.21.1 in c:\\users\\saloni20016\\anaconda3\\lib\\site-packages (from requests->streamlit->retinaface_pytorch) (1.26.4)\n",
      "Requirement already satisfied: idna<3,>=2.5 in c:\\users\\saloni20016\\anaconda3\\lib\\site-packages (from requests->streamlit->retinaface_pytorch) (2.10)\n",
      "Requirement already satisfied: certifi>=2017.4.17 in c:\\users\\saloni20016\\anaconda3\\lib\\site-packages (from requests->streamlit->retinaface_pytorch) (2020.12.5)\n",
      "Requirement already satisfied: chardet<5,>=3.0.2 in c:\\users\\saloni20016\\anaconda3\\lib\\site-packages (from requests->streamlit->retinaface_pytorch) (4.0.0)\n",
      "Requirement already satisfied: typing-extensions in c:\\users\\saloni20016\\anaconda3\\lib\\site-packages (from torch->retinaface_pytorch) (3.7.4.3)\n"
     ]
    }
   ],
   "source": [
    "#!pip install retinaface\n",
    "!pip install -U retinaface_pytorch"
   ]
  },
  {
   "cell_type": "code",
   "execution_count": 2,
   "id": "08de43d6",
   "metadata": {},
   "outputs": [
    {
     "name": "stdout",
     "output_type": "stream",
     "text": [
      "Requirement already satisfied: torchvision in c:\\users\\saloni20016\\anaconda3\\lib\\site-packages (0.10.0)\n",
      "Requirement already satisfied: numpy in c:\\users\\saloni20016\\anaconda3\\lib\\site-packages (from torchvision) (1.20.1)\n",
      "Requirement already satisfied: torch==1.9.0 in c:\\users\\saloni20016\\anaconda3\\lib\\site-packages (from torchvision) (1.9.0)\n",
      "Requirement already satisfied: pillow>=5.3.0 in c:\\users\\saloni20016\\anaconda3\\lib\\site-packages (from torchvision) (8.2.0)\n",
      "Requirement already satisfied: typing-extensions in c:\\users\\saloni20016\\anaconda3\\lib\\site-packages (from torch==1.9.0->torchvision) (3.7.4.3)\n"
     ]
    }
   ],
   "source": [
    "!pip install torchvision"
   ]
  },
  {
   "cell_type": "code",
   "execution_count": 3,
   "id": "95ed1513",
   "metadata": {},
   "outputs": [],
   "source": [
    "import pickle\n",
    "import joblib\n",
    "# Saving and Loading models using joblib \n",
    "def save(filename, obj):\n",
    "  with open(filename, 'wb') as handle:\n",
    "      joblib.dump(obj, handle, protocol=4)\n",
    "\n",
    "def load(filename):\n",
    "  with open(filename, 'rb') as handle:\n",
    "      return joblib.load(filename)"
   ]
  },
  {
   "cell_type": "code",
   "execution_count": 7,
   "id": "41e997b5",
   "metadata": {},
   "outputs": [
    {
     "name": "stdout",
     "output_type": "stream",
     "text": [
      "Loading channels: ...working... done\n",
      "No match found for: pickle. Search: *pickle*\n",
      "# Name                       Version           Build  Channel             \n",
      "cloudpickle                    0.4.0  py27h6dd55d0_0  pkgs/main           \n",
      "cloudpickle                    0.4.0  py35h754485a_0  pkgs/main           \n",
      "cloudpickle                    0.4.0  py36h639d8dc_0  pkgs/main           \n",
      "cloudpickle                    0.4.2          py27_0  pkgs/main           \n",
      "cloudpickle                    0.4.2          py35_0  pkgs/main           \n",
      "cloudpickle                    0.4.2          py36_0  pkgs/main           \n",
      "cloudpickle                    0.5.2          py27_1  pkgs/main           \n",
      "cloudpickle                    0.5.2  py27h309b2ea_0  pkgs/main           \n",
      "cloudpickle                    0.5.2          py35_1  pkgs/main           \n",
      "cloudpickle                    0.5.2  py35hd830302_0  pkgs/main           \n",
      "cloudpickle                    0.5.2          py36_1  pkgs/main           \n",
      "cloudpickle                    0.5.2  py36h6b1d831_0  pkgs/main           \n",
      "cloudpickle                    0.5.3          py27_0  pkgs/main           \n",
      "cloudpickle                    0.5.3          py35_0  pkgs/main           \n",
      "cloudpickle                    0.5.3          py36_0  pkgs/main           \n",
      "cloudpickle                    0.5.3          py37_0  pkgs/main           \n",
      "cloudpickle                    0.5.5          py27_0  pkgs/main           \n",
      "cloudpickle                    0.5.5          py35_0  pkgs/main           \n",
      "cloudpickle                    0.5.5          py36_0  pkgs/main           \n",
      "cloudpickle                    0.5.5          py37_0  pkgs/main           \n",
      "cloudpickle                    0.5.6          py27_0  pkgs/main           \n",
      "cloudpickle                    0.5.6          py36_0  pkgs/main           \n",
      "cloudpickle                    0.5.6          py37_0  pkgs/main           \n",
      "cloudpickle                    0.6.1          py27_0  pkgs/main           \n",
      "cloudpickle                    0.6.1          py36_0  pkgs/main           \n",
      "cloudpickle                    0.6.1          py37_0  pkgs/main           \n",
      "cloudpickle                    0.7.0            py_0  pkgs/main           \n",
      "cloudpickle                    0.8.0          py27_0  pkgs/main           \n",
      "cloudpickle                    0.8.0          py36_0  pkgs/main           \n",
      "cloudpickle                    0.8.0          py37_0  pkgs/main           \n",
      "cloudpickle                    0.8.1            py_0  pkgs/main           \n",
      "cloudpickle                    1.0.0            py_0  pkgs/main           \n",
      "cloudpickle                    1.1.1            py_0  pkgs/main           \n",
      "cloudpickle                    1.2.1            py_0  pkgs/main           \n",
      "cloudpickle                    1.2.2            py_0  pkgs/main           \n",
      "cloudpickle                    1.3.0            py_0  pkgs/main           \n",
      "cloudpickle                    1.4.0            py_0  pkgs/main           \n",
      "cloudpickle                    1.4.1            py_0  pkgs/main           \n",
      "cloudpickle                    1.5.0            py_0  pkgs/main           \n",
      "cloudpickle                    1.6.0            py_0  pkgs/main           \n",
      "jsonpickle                     0.9.6            py_1  pkgs/main           \n",
      "jsonpickle                       1.1            py_0  pkgs/main           \n",
      "jsonpickle                       1.2            py_0  pkgs/main           \n",
      "jsonpickle                       1.3            py_0  pkgs/main           \n",
      "jsonpickle                     1.4.1            py_0  pkgs/main           \n",
      "jsonpickle                     1.4.2    pyhd3eb1b0_0  pkgs/main           \n",
      "jsonpickle                     1.5.0    pyhd3eb1b0_0  pkgs/main           \n",
      "jsonpickle                     1.5.1    pyhd3eb1b0_0  pkgs/main           \n",
      "jsonpickle                     2.0.0    pyhd3eb1b0_0  pkgs/main           \n",
      "pickleshare                    0.7.4  py27hb5f6335_0  pkgs/main           \n",
      "pickleshare                    0.7.4  py35h2f9f535_0  pkgs/main           \n",
      "pickleshare                    0.7.4  py36h9de030f_0  pkgs/main           \n",
      "pickleshare                    0.7.4          py37_0  pkgs/main           \n",
      "pickleshare                    0.7.5          py27_0  pkgs/main           \n",
      "pickleshare                    0.7.5          py36_0  pkgs/main           \n",
      "pickleshare                    0.7.5          py37_0  pkgs/main           \n",
      "pickleshare                    0.7.5       py37_1001  pkgs/main           \n",
      "pickleshare                    0.7.5          py38_0  pkgs/main           \n",
      "pickleshare                    0.7.5       py38_1000  pkgs/main           \n",
      "pickleshare                    0.7.5 pyhd3eb1b0_1003  pkgs/main           \n"
     ]
    }
   ],
   "source": []
  },
  {
   "cell_type": "code",
   "execution_count": null,
   "id": "9d118795",
   "metadata": {},
   "outputs": [],
   "source": [
    "import cv2\n",
    "from retinaface.pre_trained_models import get_model\n",
    "image = cv2.imread('instaloader/india/arvindkejriwal/2019-06-30_05-19-57_UTC_1.jpg')\n",
    "model = get_model(\"resnet50_2020-07-20\", max_size=2048)\n",
    "model.eval()\n",
    "annotation = model.predict_jsons(image)"
   ]
  },
  {
   "cell_type": "code",
   "execution_count": 5,
   "id": "13d0ff29",
   "metadata": {},
   "outputs": [
    {
     "ename": "NameError",
     "evalue": "name 'new_image' is not defined",
     "output_type": "error",
     "traceback": [
      "\u001b[1;31m---------------------------------------------------------------------------\u001b[0m",
      "\u001b[1;31mNameError\u001b[0m                                 Traceback (most recent call last)",
      "\u001b[1;32m<ipython-input-5-0e049a6dfd00>\u001b[0m in \u001b[0;36m<module>\u001b[1;34m\u001b[0m\n\u001b[0;32m      1\u001b[0m \u001b[1;32mimport\u001b[0m \u001b[0mmatplotlib\u001b[0m\u001b[1;33m.\u001b[0m\u001b[0mpyplot\u001b[0m \u001b[1;32mas\u001b[0m \u001b[0mplt\u001b[0m\u001b[1;33m\u001b[0m\u001b[1;33m\u001b[0m\u001b[0m\n\u001b[1;32m----> 2\u001b[1;33m \u001b[0mplt\u001b[0m\u001b[1;33m.\u001b[0m\u001b[0mimshow\u001b[0m\u001b[1;33m(\u001b[0m\u001b[0mnew_image\u001b[0m\u001b[1;33m)\u001b[0m\u001b[1;33m\u001b[0m\u001b[1;33m\u001b[0m\u001b[0m\n\u001b[0m",
      "\u001b[1;31mNameError\u001b[0m: name 'new_image' is not defined"
     ]
    }
   ],
   "source": [
    "import matplotlib.pyplot as plt\n",
    "plt.imshow(new_image)"
   ]
  },
  {
   "cell_type": "code",
   "execution_count": 12,
   "id": "0204941f",
   "metadata": {},
   "outputs": [],
   "source": [
    "import glob\n",
    "\n",
    "#files = glob.glob('instaloader/**/*.jpg', recursive = True)\n",
    "#save('IPWork/imagePath.pkl',files)\n",
    "files = load('IPWork/imagePath.pkl')\n",
    "  "
   ]
  },
  {
   "cell_type": "code",
   "execution_count": null,
   "id": "bb716f47",
   "metadata": {},
   "outputs": [],
   "source": [
    "#files = glob.glob('instaloader/Brazil/**/*.jpg', recursive = True)"
   ]
  },
  {
   "cell_type": "code",
   "execution_count": 3,
   "id": "a2460e4e",
   "metadata": {},
   "outputs": [
    {
     "data": {
      "image/png": "[encoded data removed]",
      "text/plain": [
       "<Figure size 432x288 with 1 Axes>"
      ]
     },
     "metadata": {
      "needs_background": "light"
     },
     "output_type": "display_data"
    }
   ],
   "source": [
    "import matplotlib.pyplot as plt\n",
    "\n",
    "plt.bar([\"India\",\"USA\",\"Brazil\"],[5315 ,6557 ,6568])\n",
    "plt.show()"
   ]
  },
  {
   "cell_type": "code",
   "execution_count": 4,
   "id": "a919a73e",
   "metadata": {},
   "outputs": [],
   "source": [
    "import cv2\n",
    "from retinaface.pre_trained_models import get_model"
   ]
  },
  {
   "cell_type": "code",
   "execution_count": 5,
   "id": "f3e33637",
   "metadata": {},
   "outputs": [
    {
     "name": "stdout",
     "output_type": "stream",
     "text": [
      "0\n"
     ]
    },
    {
     "name": "stderr",
     "output_type": "stream",
     "text": [
      "C:\\Users\\saloni20016\\anaconda3\\lib\\site-packages\\torch\\hub.py:480: UserWarning: Falling back to the old format < 1.6. This support will be deprecated in favor of default zipfile format introduced in 1.6. Please redo torch.save() to save it in the new zipfile format.\n",
      "  warnings.warn('Falling back to the old format < 1.6. This support will be '\n",
      "C:\\Users\\saloni20016\\anaconda3\\lib\\site-packages\\torch\\nn\\functional.py:718: UserWarning: Named tensors and all their associated APIs are an experimental feature and subject to change. Please do not use them for anything important until they are released as stable. (Triggered internally at  ..\\c10/core/TensorImpl.h:1156.)\n",
      "  return torch.max_pool2d(input, kernel_size, stride, padding, dilation, ceil_mode)\n"
     ]
    },
    {
     "name": "stdout",
     "output_type": "stream",
     "text": [
      "500\n",
      "1000\n",
      "1500\n",
      "2000\n",
      "2500\n",
      "3000\n",
      "3500\n",
      "4000\n",
      "4500\n",
      "5000\n",
      "5500\n",
      "6000\n",
      "6500\n",
      "7000\n",
      "7500\n",
      "8000\n",
      "8500\n",
      "9000\n",
      "9500\n",
      "10000\n",
      "10500\n",
      "11000\n",
      "11500\n",
      "12000\n",
      "12500\n",
      "13000\n",
      "13500\n",
      "14000\n",
      "14500\n"
     ]
    }
   ],
   "source": [
    "face_data = []\n",
    "count = 0\n",
    "for path in files:\n",
    "    if(count%500==0):\n",
    "        save('IPWork/face_data_'+str(count)+'.pkl',face_data)\n",
    "        print(count)\n",
    "    image = cv2.imread(path)\n",
    "    model = get_model(\"resnet50_2020-07-20\", max_size=2048)\n",
    "    model.eval()\n",
    "    annotation = model.predict_jsons(image)\n",
    "    data_dict = {'path':path,'annot':annotation}\n",
    "    face_data.append(data_dict)\n",
    "    count+=1\n",
    "save('IPWork/face_data.pkl',face_data)"
   ]
  },
  {
   "cell_type": "code",
   "execution_count": null,
   "id": "e37b9a7c",
   "metadata": {},
   "outputs": [],
   "source": [
    "import tensorflow as tf\n",
    "tf.test.gpu_device_name()"
   ]
  },
  {
   "cell_type": "code",
   "execution_count": 3,
   "id": "f615ebf2",
   "metadata": {},
   "outputs": [
    {
     "name": "stdout",
     "output_type": "stream",
     "text": [
      "Requirement already satisfied: CMake in c:\\users\\saloni20016\\anaconda3\\lib\\site-packages (3.21.0)\n"
     ]
    }
   ],
   "source": [
    "!pip install CMake"
   ]
  },
  {
   "cell_type": "code",
   "execution_count": null,
   "id": "6ffddbf8",
   "metadata": {},
   "outputs": [],
   "source": [
    "!conda create -n envname\n",
    "!conda activate envname\n",
    "!conda install -c conda-forge dlib"
   ]
  },
  {
   "cell_type": "code",
   "execution_count": null,
   "id": "73b5129d",
   "metadata": {},
   "outputs": [],
   "source": [
    "import cv2\n",
    "import argparse\n",
    "import os\n",
    "from imutils import face_utils\n",
    "import numpy as np\n",
    "from skimage.util import montage\n",
    "import imutils\n",
    "from pathlib import Path\n",
    "import json\n",
    "import sys\n",
    "import dlib\n",
    "from tqdm import tqdm\n"
   ]
  },
  {
   "cell_type": "code",
   "execution_count": null,
   "id": "d898e185",
   "metadata": {},
   "outputs": [],
   "source": [
    "predictor = dlib.shape_predictor(\"IPWork/shape_predictor_68_face_landmarks.dat\") \n",
    "  cv_image = cv2.imread(f\"/content/couple.jpg\",1)\n",
    "  jaw_no = 0\n",
    "  annotation = annotation[0]\n",
    "  x_min, y_min, x_max, y_max = annotation['bbox']\n",
    "  x_min = np.clip(x_min, 0, x_max)\n",
    "  y_min = np.clip(y_min, 0, y_max)\n",
    "  shape = predictor(cv_image, dlib.rectangle(x_min,y_min,x_max,y_max)) # facial landmarks\n",
    "  shape = face_utils.shape_to_np(shape)\n",
    "  points = np.concatenate((shape[4:13],shape[31:36],shape[48:]))\n",
    "  (x, y, w, h) = cv2.boundingRect(np.array([points]))\n",
    "  roi = cv_image[y:y + h, x:x + w]\n",
    "  #print(roi)\n",
    "  Path(f\"/content/sample_data\").mkdir(parents=True, exist_ok=True)\n",
    "  #print(\"Hello\")\n",
    "  cv2.imwrite(f\"/content/sample_data/image.jpg\",roi)"
   ]
  },
  {
   "cell_type": "code",
   "execution_count": 2,
   "id": "adfe7b44",
   "metadata": {},
   "outputs": [],
   "source": [
    "files = load('IPWork/face_data.pkl')"
   ]
  },
  {
   "cell_type": "code",
   "execution_count": 9,
   "id": "fc2d36c5",
   "metadata": {},
   "outputs": [],
   "source": [
    "save('IPWork/face_data_new.pkl',files)"
   ]
  },
  {
   "cell_type": "code",
   "execution_count": 10,
   "id": "4ab9afd5",
   "metadata": {},
   "outputs": [
    {
     "data": {
      "text/plain": [
       "{'path': 'instaloader\\\\Brazil\\\\anitta\\\\2019-07-09_12-23-19_UTC.jpg',\n",
       " 'annot': [{'bbox': [266, 45, 347, 140],\n",
       "   'score': 0.9999136924743652,\n",
       "   'landmarks': [[285, 95], [313, 79], [302, 107], [304, 124], [327, 110]]}]}"
      ]
     },
     "execution_count": 10,
     "metadata": {},
     "output_type": "execute_result"
    }
   ],
   "source": [
    "files = load('IPWork/face_data_new.pkl')\n",
    "files[0]"
   ]
  },
  {
   "cell_type": "code",
   "execution_count": null,
   "id": "7632972b",
   "metadata": {},
   "outputs": [],
   "source": [
    "  predictor = dlib.shape_predictor(\"C:/Users/saloni20016/IPWork/pred/shape_predictor_68_face_landmarks.dat\") \n",
    "  cv_image = cv2.imread(f\"/content/couple.jpg\",1)\n",
    "  jaw_no = 0\n",
    "  annotation = annotation[1]\n",
    "  x_min, y_min, x_max, y_max = annotation['bbox']\n",
    "  x_min = np.clip(x_min, 0, x_max)\n",
    "  y_min = np.clip(y_min, 0, y_max)\n",
    "  shape = predictor(cv_image, dlib.rectangle(x_min,y_min,x_max,y_max)) # facial landmarks\n",
    "  shape = face_utils.shape_to_np(shape)\n",
    "  points = np.concatenate((shape[4:13],shape[31:36],shape[48:]))\n",
    "  (x, y, w, h) = cv2.boundingRect(np.array([points]))\n",
    "  roi = cv_image[y:y + h, x:x + w]\n",
    "  #print(roi)\n",
    "  Path(f\"/content/sample_data\").mkdir(parents=True, exist_ok=True)\n",
    "  #print(\"Hello\")\n",
    "  cv2.imwrite(f\"/content/sample_data/image.jpg\",roi)"
   ]
  },
  {
   "cell_type": "code",
   "execution_count": 15,
   "id": "915ca702",
   "metadata": {},
   "outputs": [
    {
     "data": {
      "text/plain": [
       "['IPWork/mouths/Brazil\\\\2019-06',\n",
       " 'IPWork/mouths/Brazil\\\\2019-07',\n",
       " 'IPWork/mouths/Brazil\\\\2019-08',\n",
       " 'IPWork/mouths/Brazil\\\\2019-09',\n",
       " 'IPWork/mouths/Brazil\\\\2019-10',\n",
       " 'IPWork/mouths/Brazil\\\\2019-11',\n",
       " 'IPWork/mouths/Brazil\\\\2019-12',\n",
       " 'IPWork/mouths/Brazil\\\\2020-01',\n",
       " 'IPWork/mouths/Brazil\\\\2020-02',\n",
       " 'IPWork/mouths/Brazil\\\\2020-03',\n",
       " 'IPWork/mouths/Brazil\\\\2020-04',\n",
       " 'IPWork/mouths/Brazil\\\\2020-05',\n",
       " 'IPWork/mouths/Brazil\\\\2020-06',\n",
       " 'IPWork/mouths/Brazil\\\\2020-07',\n",
       " 'IPWork/mouths/Brazil\\\\2020-08',\n",
       " 'IPWork/mouths/Brazil\\\\2020-09',\n",
       " 'IPWork/mouths/Brazil\\\\2020-10',\n",
       " 'IPWork/mouths/Brazil\\\\2020-11',\n",
       " 'IPWork/mouths/Brazil\\\\2020-12',\n",
       " 'IPWork/mouths/Brazil\\\\2021-01',\n",
       " 'IPWork/mouths/Brazil\\\\2021-02',\n",
       " 'IPWork/mouths/Brazil\\\\2021-03',\n",
       " 'IPWork/mouths/Brazil\\\\2021-04',\n",
       " 'IPWork/mouths/Brazil\\\\2021-05',\n",
       " 'IPWork/mouths/Brazil\\\\2021-06',\n",
       " 'IPWork/mouths/Brazil\\\\anitta_',\n",
       " 'IPWork/mouths/Brazil\\\\fernand',\n",
       " 'IPWork/mouths/Brazil\\\\gisele_',\n",
       " 'IPWork/mouths/Brazil\\\\ivetesa',\n",
       " 'IPWork/mouths/Brazil\\\\neymarj',\n",
       " 'IPWork/mouths/Brazil\\\\oficial',\n",
       " 'IPWork/mouths/Brazil\\\\pauloco',\n",
       " 'IPWork/mouths/Brazil\\\\pele_20',\n",
       " 'IPWork/mouths/Brazil\\\\xuxamen']"
      ]
     },
     "execution_count": 15,
     "metadata": {},
     "output_type": "execute_result"
    }
   ],
   "source": [
    "glob.glob(\"IPWork/mouths/Brazil/*\")"
   ]
  },
  {
   "cell_type": "code",
   "execution_count": 4,
   "id": "2d996d43",
   "metadata": {},
   "outputs": [],
   "source": [
    "inference = load('IPWork/inference.pkl')"
   ]
  },
  {
   "cell_type": "code",
   "execution_count": 62,
   "id": "10e85503",
   "metadata": {},
   "outputs": [],
   "source": [
    "#Cases\n",
    "cases ={}\n",
    "cases['India'] = [2395,13484,64485,144306,365201,571078,556841,319271,251303,136115,91650,114068,513885,2738957,914539,312250]\n",
    "cases['Brazil'] =  [5639,38594,180605,264107,299957,288029,190910,114523,295618,252018,328652,413597,505668,423438,449478,364709]\n",
    "cases['USA'] = [171279,197434,152498,335560,371381,292750,297226,780564,1286237,1360583,883188,421918,443930,345908,99103,128482]"
   ]
  },
  {
   "cell_type": "code",
   "execution_count": 65,
   "id": "33538e10",
   "metadata": {},
   "outputs": [],
   "source": [
    "def show_graph(df,c):\n",
    "    #figure, ax = plt.subplots(2, 2)\n",
    "    ax = df.plot(x=\"Year\", y=[\"Mask\", \"Unmask\"], kind=\"bar\", title = \"For Country \"+c,figsize=(14,7))\n",
    "    ax.set_xlabel(\"Months\")\n",
    "    ax.set_ylabel(\"Counts of mask and unmask posts\")\n",
    "    ax1 = df.plot(x=\"Year\", y=[\"Cases\"], kind=\"bar\", title = \"For Country \"+c,figsize=(14,7))\n",
    "    ax1.set_xlabel(\"Months\")\n",
    "    ax1.set_ylabel(\"Counts of Cases\")\n",
    "    "
   ]
  },
  {
   "cell_type": "code",
   "execution_count": 94,
   "id": "f5a34797",
   "metadata": {},
   "outputs": [],
   "source": [
    "from collections import Counter\n",
    "country_wise = {}\n",
    "for i in inference:\n",
    "    mask = []\n",
    "    unmask = []\n",
    "    year = []\n",
    "    for k in inference[i]:\n",
    "        year.append(k)\n",
    "        a = (Counter(inference[i][k]))\n",
    "        mask.append(a[0])\n",
    "        unmask.append(a[1])\n",
    "        #temp[k] = (inference[i][k])\n",
    "    data = {'Year': year,'Mask' : mask, 'Unmask' : unmask}\n",
    "    #print(i)\n",
    "    df = pd.DataFrame(data,columns=['Year','Mask','Unmask'])\n",
    "    save(i+\".pkl\",df)"
   ]
  },
  {
   "cell_type": "code",
   "execution_count": 66,
   "id": "a7cf1d2d",
   "metadata": {},
   "outputs": [
    {
     "data": {
      "image/png": "[encoded data removed]",
      "text/plain": [
       "<Figure size 1008x504 with 1 Axes>"
      ]
     },
     "metadata": {
      "needs_background": "light"
     },
     "output_type": "display_data"
    },
    {
     "data": {
      "image/png": "[encoded data removed]",
      "text/plain": [
       "<Figure size 1008x504 with 1 Axes>"
      ]
     },
     "metadata": {
      "needs_background": "light"
     },
     "output_type": "display_data"
    },
    {
     "data": {
      "image/png": "[encoded data removed]",
      "text/plain": [
       "<Figure size 1008x504 with 1 Axes>"
      ]
     },
     "metadata": {
      "needs_background": "light"
     },
     "output_type": "display_data"
    },
    {
     "data": {
      "image/png": "[encoded data removed]",
      "text/plain": [
       "<Figure size 1008x504 with 1 Axes>"
      ]
     },
     "metadata": {
      "needs_background": "light"
     },
     "output_type": "display_data"
    },
    {
     "data": {
      "image/png": "[encoded data removed]",
      "text/plain": [
       "<Figure size 1008x504 with 1 Axes>"
      ]
     },
     "metadata": {
      "needs_background": "light"
     },
     "output_type": "display_data"
    },
    {
     "data": {
      "image/png": "[encoded data removed]",
      "text/plain": [
       "<Figure size 1008x504 with 1 Axes>"
      ]
     },
     "metadata": {
      "needs_background": "light"
     },
     "output_type": "display_data"
    }
   ],
   "source": [
    "countries = ['USA','India','Brazil']\n",
    "pkl = ['USA.pkl','india.pkl','Brazil.pkl']\n",
    "for i in range(len(cases)):\n",
    "    df = load(pkl[i])\n",
    "    df_t = df.drop([0,1,2,3,4,5,6,7,8],axis=0)\n",
    "    df_t['Cases'] = cases[countries[i]]\n",
    "    show_graph(df_t,countries[i])"
   ]
  },
  {
   "cell_type": "code",
   "execution_count": 117,
   "id": "01f0e170",
   "metadata": {},
   "outputs": [],
   "source": [
    "df_brazil = load(\"Brazil.pkl\")"
   ]
  },
  {
   "cell_type": "code",
   "execution_count": 118,
   "id": "3becc599",
   "metadata": {},
   "outputs": [
    {
     "data": {
      "text/html": [
       "<div>\n",
       "<style scoped>\n",
       "    .dataframe tbody tr th:only-of-type {\n",
       "        vertical-align: middle;\n",
       "    }\n",
       "\n",
       "    .dataframe tbody tr th {\n",
       "        vertical-align: top;\n",
       "    }\n",
       "\n",
       "    .dataframe thead th {\n",
       "        text-align: right;\n",
       "    }\n",
       "</style>\n",
       "<table border=\"1\" class=\"dataframe\">\n",
       "  <thead>\n",
       "    <tr style=\"text-align: right;\">\n",
       "      <th></th>\n",
       "      <th>Year</th>\n",
       "      <th>Mask</th>\n",
       "      <th>Unmask</th>\n",
       "    </tr>\n",
       "  </thead>\n",
       "  <tbody>\n",
       "    <tr>\n",
       "      <th>0</th>\n",
       "      <td>2019-06</td>\n",
       "      <td>9</td>\n",
       "      <td>16</td>\n",
       "    </tr>\n",
       "    <tr>\n",
       "      <th>1</th>\n",
       "      <td>2019-07</td>\n",
       "      <td>19</td>\n",
       "      <td>97</td>\n",
       "    </tr>\n",
       "    <tr>\n",
       "      <th>2</th>\n",
       "      <td>2019-08</td>\n",
       "      <td>39</td>\n",
       "      <td>31</td>\n",
       "    </tr>\n",
       "    <tr>\n",
       "      <th>3</th>\n",
       "      <td>2019-09</td>\n",
       "      <td>45</td>\n",
       "      <td>206</td>\n",
       "    </tr>\n",
       "    <tr>\n",
       "      <th>4</th>\n",
       "      <td>2019-10</td>\n",
       "      <td>80</td>\n",
       "      <td>72</td>\n",
       "    </tr>\n",
       "    <tr>\n",
       "      <th>5</th>\n",
       "      <td>2019-11</td>\n",
       "      <td>62</td>\n",
       "      <td>98</td>\n",
       "    </tr>\n",
       "    <tr>\n",
       "      <th>6</th>\n",
       "      <td>2019-12</td>\n",
       "      <td>31</td>\n",
       "      <td>153</td>\n",
       "    </tr>\n",
       "    <tr>\n",
       "      <th>7</th>\n",
       "      <td>2020-01</td>\n",
       "      <td>160</td>\n",
       "      <td>148</td>\n",
       "    </tr>\n",
       "    <tr>\n",
       "      <th>8</th>\n",
       "      <td>2020-02</td>\n",
       "      <td>92</td>\n",
       "      <td>249</td>\n",
       "    </tr>\n",
       "    <tr>\n",
       "      <th>9</th>\n",
       "      <td>2020-03</td>\n",
       "      <td>95</td>\n",
       "      <td>135</td>\n",
       "    </tr>\n",
       "    <tr>\n",
       "      <th>10</th>\n",
       "      <td>2020-04</td>\n",
       "      <td>59</td>\n",
       "      <td>149</td>\n",
       "    </tr>\n",
       "    <tr>\n",
       "      <th>11</th>\n",
       "      <td>2020-05</td>\n",
       "      <td>19</td>\n",
       "      <td>58</td>\n",
       "    </tr>\n",
       "    <tr>\n",
       "      <th>12</th>\n",
       "      <td>2020-06</td>\n",
       "      <td>21</td>\n",
       "      <td>63</td>\n",
       "    </tr>\n",
       "    <tr>\n",
       "      <th>13</th>\n",
       "      <td>2020-07</td>\n",
       "      <td>18</td>\n",
       "      <td>90</td>\n",
       "    </tr>\n",
       "    <tr>\n",
       "      <th>14</th>\n",
       "      <td>2020-08</td>\n",
       "      <td>106</td>\n",
       "      <td>141</td>\n",
       "    </tr>\n",
       "    <tr>\n",
       "      <th>15</th>\n",
       "      <td>2020-09</td>\n",
       "      <td>15</td>\n",
       "      <td>43</td>\n",
       "    </tr>\n",
       "    <tr>\n",
       "      <th>16</th>\n",
       "      <td>2020-10</td>\n",
       "      <td>129</td>\n",
       "      <td>97</td>\n",
       "    </tr>\n",
       "    <tr>\n",
       "      <th>17</th>\n",
       "      <td>2020-11</td>\n",
       "      <td>18</td>\n",
       "      <td>93</td>\n",
       "    </tr>\n",
       "    <tr>\n",
       "      <th>18</th>\n",
       "      <td>2020-12</td>\n",
       "      <td>15</td>\n",
       "      <td>118</td>\n",
       "    </tr>\n",
       "    <tr>\n",
       "      <th>19</th>\n",
       "      <td>2021-01</td>\n",
       "      <td>11</td>\n",
       "      <td>68</td>\n",
       "    </tr>\n",
       "    <tr>\n",
       "      <th>20</th>\n",
       "      <td>2021-02</td>\n",
       "      <td>22</td>\n",
       "      <td>61</td>\n",
       "    </tr>\n",
       "    <tr>\n",
       "      <th>21</th>\n",
       "      <td>2021-03</td>\n",
       "      <td>8</td>\n",
       "      <td>42</td>\n",
       "    </tr>\n",
       "    <tr>\n",
       "      <th>22</th>\n",
       "      <td>2021-04</td>\n",
       "      <td>37</td>\n",
       "      <td>120</td>\n",
       "    </tr>\n",
       "    <tr>\n",
       "      <th>23</th>\n",
       "      <td>2021-05</td>\n",
       "      <td>20</td>\n",
       "      <td>97</td>\n",
       "    </tr>\n",
       "    <tr>\n",
       "      <th>24</th>\n",
       "      <td>2021-06</td>\n",
       "      <td>61</td>\n",
       "      <td>65</td>\n",
       "    </tr>\n",
       "  </tbody>\n",
       "</table>\n",
       "</div>"
      ],
      "text/plain": [
       "       Year  Mask  Unmask\n",
       "0   2019-06     9      16\n",
       "1   2019-07    19      97\n",
       "2   2019-08    39      31\n",
       "3   2019-09    45     206\n",
       "4   2019-10    80      72\n",
       "5   2019-11    62      98\n",
       "6   2019-12    31     153\n",
       "7   2020-01   160     148\n",
       "8   2020-02    92     249\n",
       "9   2020-03    95     135\n",
       "10  2020-04    59     149\n",
       "11  2020-05    19      58\n",
       "12  2020-06    21      63\n",
       "13  2020-07    18      90\n",
       "14  2020-08   106     141\n",
       "15  2020-09    15      43\n",
       "16  2020-10   129      97\n",
       "17  2020-11    18      93\n",
       "18  2020-12    15     118\n",
       "19  2021-01    11      68\n",
       "20  2021-02    22      61\n",
       "21  2021-03     8      42\n",
       "22  2021-04    37     120\n",
       "23  2021-05    20      97\n",
       "24  2021-06    61      65"
      ]
     },
     "execution_count": 118,
     "metadata": {},
     "output_type": "execute_result"
    }
   ],
   "source": [
    "df_brazil"
   ]
  },
  {
   "cell_type": "code",
   "execution_count": 112,
   "id": "6aa5d5a1",
   "metadata": {},
   "outputs": [],
   "source": [
    "drop_col = [\"2019-06\",\"2019-07\",\"2019-08\",\"2019-09\",\"2019-10\",\"2019-11\",\"2019-12\",\"2020-01\",\"2020-02\"]"
   ]
  },
  {
   "cell_type": "code",
   "execution_count": 119,
   "id": "135956bb",
   "metadata": {},
   "outputs": [
    {
     "data": {
      "image/png": "[encoded data removed]",
      "text/plain": [
       "<Figure size 1008x504 with 1 Axes>"
      ]
     },
     "metadata": {
      "needs_background": "light"
     },
     "output_type": "display_data"
    },
    {
     "data": {
      "image/png": "[encoded data removed]",
      "text/plain": [
       "<Figure size 1008x504 with 1 Axes>"
      ]
     },
     "metadata": {
      "needs_background": "light"
     },
     "output_type": "display_data"
    }
   ],
   "source": [
    "df_t = df_brazil.drop([0,1,2,3,4,5,6,7,8],axis=0)\n",
    "df_t['Cases'] = brazil_case\n",
    "show_graph(df_t,\"Brazil\")"
   ]
  },
  {
   "cell_type": "code",
   "execution_count": 70,
   "id": "5a5383c6",
   "metadata": {},
   "outputs": [],
   "source": [
    "#India\n",
    "# From Jan 2021 to July 2021 data\n",
    "# AI  = total_vaccinations\n",
    "# AJ = people_vaccinated\n",
    "# AK = people_fully_vaccinated\n",
    "# AL = new_vaccinations\n",
    "Months = [\"2021-01\",\"2021-02\",\"2021-03\",\"2021-04\",\"2021-05\",\"2021-06\",\"2021-07\"]\n",
    "AI = [28323206,274174427,1166006861,3038130111,5432545301,7930055407,6320400632]\n",
    "AJ = [28323206,233403845,975578403,2610992915,4297974308,6464569904,5105904840]\n",
    "AK = [0,16614639,190428458,427137196,1134570993,1465485503,1214495792]\n",
    "AL = [3758843,10078106,50816630,77932654,55496176,118708244,68732212]"
   ]
  },
  {
   "cell_type": "code",
   "execution_count": 71,
   "id": "c1c20118",
   "metadata": {},
   "outputs": [
    {
     "data": {
      "text/plain": [
       "Text(0, 0.5, 'Counts of people vaccinated')"
      ]
     },
     "execution_count": 71,
     "metadata": {},
     "output_type": "execute_result"
    },
    {
     "data": {
      "image/png": "[encoded data removed]",
      "text/plain": [
       "<Figure size 864x432 with 1 Axes>"
      ]
     },
     "metadata": {
      "needs_background": "light"
     },
     "output_type": "display_data"
    }
   ],
   "source": [
    "import pandas as pd\n",
    "data = {'Months': Months,'Total_Vaccinations' : AI, 'People_Vaccinated' : AJ, 'People_fully_Vaccinated' : AK, 'New_Vaccinations' : AL}\n",
    "df = pd.DataFrame(data,columns=['Months','People_Vaccinated','People_fully_Vaccinated'])\n",
    "ax = df.plot(x=\"Months\", y=['People_Vaccinated','People_fully_Vaccinated'], kind=\"bar\",figsize=(12,6))\n",
    "ax.set_xlabel(\"Months\")\n",
    "ax.set_ylabel(\"Counts of people vaccinated\")\n",
    "\n"
   ]
  },
  {
   "cell_type": "code",
   "execution_count": 72,
   "id": "dec544ed",
   "metadata": {},
   "outputs": [],
   "source": [
    "#BRAZIL\n",
    "# From Jan 2021 to July 2021 data\n",
    "# AI  = total_vaccinations\n",
    "# AJ = people_vaccinated\n",
    "# AK = people_fully_vaccinated\n",
    "# AL = new_vaccinations\n",
    "\n",
    "AI = [11441704,148879537,349044993,812926594,1348141942,1966085708,1713736257]\n",
    "AJ = [11323589,132246615,265457921,597706112,911027813,1327252751,1286993787]\n",
    "AK = [0,16616239,83587072,215220482,437114129,548755946,459156806]\n",
    "AL = [2074059,6359509,9742356,20822886,16513575,22960357,17130419]"
   ]
  },
  {
   "cell_type": "code",
   "execution_count": 73,
   "id": "8612ec16",
   "metadata": {},
   "outputs": [
    {
     "data": {
      "text/plain": [
       "Text(0, 0.5, 'Counts of people vaccinated')"
      ]
     },
     "execution_count": 73,
     "metadata": {},
     "output_type": "execute_result"
    },
    {
     "data": {
      "image/png": "[encoded data removed]",
      "text/plain": [
       "<Figure size 864x432 with 1 Axes>"
      ]
     },
     "metadata": {
      "needs_background": "light"
     },
     "output_type": "display_data"
    }
   ],
   "source": [
    "data = {'Months': Months,'Total_Vaccinations' : AI, 'People_Vaccinated' : AJ, 'People_fully_Vaccinated' : AK, 'New_Vaccinations' : AL}\n",
    "df = pd.DataFrame(data,columns=['Months','People_Vaccinated','People_fully_Vaccinated'])\n",
    "ax = df.plot(x=\"Months\", y=['People_Vaccinated','People_fully_Vaccinated'], kind=\"bar\",figsize=(12,6))\n",
    "ax.set_xlabel(\"Months\")\n",
    "ax.set_ylabel(\"Counts of people vaccinated\")\n"
   ]
  },
  {
   "cell_type": "code",
   "execution_count": 74,
   "id": "ff9de221",
   "metadata": {},
   "outputs": [],
   "source": [
    "#USA\n",
    "\n",
    "# From Dec 2020 to July 2021 data\n",
    "# AI  = total_vaccinations\n",
    "# AJ = people_vaccinated\n",
    "# AK = people_fully_vaccinated\n",
    "# AL = new_vaccinations\n",
    "Months = [\"2020-12\",\"2021-01\",\"2021-02\",\"2021-03\",\"2021-04\",\"2021-05\",\"2021-06\",\"2021-07\"]\n",
    "AI = [9044666,380542286,1017922891,3470863067,5973943153,8118436034,9355875771,6004348783]\n",
    "AJ = [9044666,318860802,383610786,2266848759,3747634396,4707015796,5242726571,3310299039]\n",
    "AK = [0,49123911,41776696,1218064777,2374031843,3624185315,4369447670,2861225045]\n",
    "AL = [57909,20832540,42391064,75037289,89886385,54769173,30117286,11115814]"
   ]
  },
  {
   "cell_type": "code",
   "execution_count": 75,
   "id": "3a41af67",
   "metadata": {},
   "outputs": [
    {
     "data": {
      "text/plain": [
       "Text(0, 0.5, 'Counts of people vaccinated')"
      ]
     },
     "execution_count": 75,
     "metadata": {},
     "output_type": "execute_result"
    },
    {
     "data": {
      "image/png": "[encoded data removed]",
      "text/plain": [
       "<Figure size 864x432 with 1 Axes>"
      ]
     },
     "metadata": {
      "needs_background": "light"
     },
     "output_type": "display_data"
    }
   ],
   "source": [
    "data = {'Months': Months,'Total_Vaccinations' : AI, 'People_Vaccinated' : AJ, 'People_fully_Vaccinated' : AK, 'New_Vaccinations' : AL}\n",
    "df = pd.DataFrame(data,columns=['Months','People_Vaccinated','People_fully_Vaccinated'])\n",
    "ax = df.plot(x=\"Months\", y=['People_Vaccinated','People_fully_Vaccinated'], kind=\"bar\",figsize=(12,6))\n",
    "ax.set_xlabel(\"Months\")\n",
    "ax.set_ylabel(\"Counts of people vaccinated\")\n"
   ]
  },
  {
   "cell_type": "code",
   "execution_count": null,
   "id": "95d93673",
   "metadata": {},
   "outputs": [],
   "source": []
  }
 ],
 "metadata": {
  "kernelspec": {
   "display_name": "Python 3",
   "language": "python",
   "name": "python3"
  },
  "language_info": {
   "codemirror_mode": {
    "name": "ipython",
    "version": 3
   },
   "file_extension": ".py",
   "mimetype": "text/x-python",
   "name": "python",
   "nbconvert_exporter": "python",
   "pygments_lexer": "ipython3",
   "version": "3.8.8"
  }
 },
 "nbformat": 4,
 "nbformat_minor": 5
}
